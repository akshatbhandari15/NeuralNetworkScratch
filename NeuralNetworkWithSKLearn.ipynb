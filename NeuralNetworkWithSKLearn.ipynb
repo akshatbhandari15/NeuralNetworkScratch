{
 "cells": [
  {
   "cell_type": "code",
   "execution_count": 1,
   "metadata": {},
   "outputs": [],
   "source": [
    "import numpy as np\n",
    "import pandas as pd\n",
    "from matplotlib import pyplot as plt\n",
    "\n",
    "from sklearn.neural_network import MLPClassifier\n",
    "from sklearn.metrics import accuracy_score"
   ]
  },
  {
   "cell_type": "code",
   "execution_count": 16,
   "metadata": {},
   "outputs": [],
   "source": [
    "sknet = MLPClassifier(hidden_layer_sizes=(398), learning_rate_init=0.001, max_iter=10000)"
   ]
  },
  {
   "cell_type": "code",
   "execution_count": 3,
   "metadata": {},
   "outputs": [
    {
     "name": "stdout",
     "output_type": "stream",
     "text": [
      "Shape of train set is (60000, 784)\n",
      "Shape of train label is (60000,)\n"
     ]
    }
   ],
   "source": [
    "df = pd.read_csv(\"fashion-mnist_train.csv\")\n",
    "\n",
    "df.head()\n",
    "\n",
    "labels = df.label\n",
    "X = df.drop([\"label\"], axis = 1)\n",
    "labels = labels.to_numpy()\n",
    "\n",
    "from sklearn.preprocessing import StandardScaler\n",
    "\n",
    "sc = StandardScaler()\n",
    "sc.fit(X)\n",
    "X = sc.transform(X)\n",
    "\n",
    "print(f\"Shape of train set is {X.shape}\")\n",
    "print(f\"Shape of train label is {labels.shape}\")\n",
    "X = X.to_numpy()\n",
    "y_label = np.zeros([60000, 10])\n",
    "\n",
    "for i in range(len(labels)):\n",
    "    y_label[i][labels[i]]= 1"
   ]
  },
  {
   "cell_type": "code",
   "execution_count": 17,
   "metadata": {},
   "outputs": [],
   "source": [
    "Xtest = pd.read_csv(\"fashion-mnist_test.csv\")\n",
    "ytest = Xtest.label\n",
    "Xtest = Xtest.drop('label', axis = 1)\n",
    "Xtest = Xtest.to_numpy()\n",
    "\n",
    "ytest_labels = np.zeros([len(ytest), 10])\n",
    "\n",
    "for i in range(len(ytest)):\n",
    "    ytest_labels[i][ytest[i]] = 1\n",
    "    \n",
    "    "
   ]
  },
  {
   "cell_type": "code",
   "execution_count": null,
   "metadata": {},
   "outputs": [],
   "source": [
    "sknet.fit(X, y_label)\n",
    "preds_train = sknet.predict(X)\n",
    "preds_test = sknet.predict(Xtest)\n",
    "\n",
    "print(\"Train accuracy of sklearn neural network: {}\".format(round(accuracy_score(preds_train, y_label),2)*100))\n",
    "print(\"Test accuracy of sklearn neural network: {}\".format(round(accuracy_score(preds_test, ytest),2)*100))\n"
   ]
  },
  {
   "cell_type": "code",
   "execution_count": null,
   "metadata": {},
   "outputs": [],
   "source": []
  }
 ],
 "metadata": {
  "kernelspec": {
   "display_name": "Python 3",
   "language": "python",
   "name": "python3"
  },
  "language_info": {
   "codemirror_mode": {
    "name": "ipython",
    "version": 3
   },
   "file_extension": ".py",
   "mimetype": "text/x-python",
   "name": "python",
   "nbconvert_exporter": "python",
   "pygments_lexer": "ipython3",
   "version": "3.8.3"
  }
 },
 "nbformat": 4,
 "nbformat_minor": 4
}
